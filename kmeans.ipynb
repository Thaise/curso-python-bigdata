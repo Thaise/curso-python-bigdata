{
 "cells": [
  {
   "cell_type": "code",
   "execution_count": 5,
   "metadata": {},
   "outputs": [],
   "source": [
    "import math\n",
    "import numpy as np"
   ]
  },
  {
   "cell_type": "code",
   "execution_count": 42,
   "metadata": {},
   "outputs": [],
   "source": [
    "def create_cluster(i, n_clusters, collection):\n",
    "    \n",
    "    centroid_index = int(i*len(collection)/n_clusters)\n",
    "    \n",
    "    return {\n",
    "        'index': i,\n",
    "        'centroid': collection[centroid_index],\n",
    "        'centroid_index': centroid_index + 1,\n",
    "        'elements': [],\n",
    "        'elements_index': []\n",
    "    }\n",
    "\n",
    "def distance_function(a,b):\n",
    "    return np.linalg.norm(a-b)\n",
    "\n",
    "def calculate_average(elements):\n",
    "    return np.sum(elements, axis=0) / len(elements)\n",
    "\n",
    "def find_closest_cluster(e, clusters, fn):\n",
    "    return list(sorted(clusters, key=lambda x:fn(x['centroid'],e)))[0]\n",
    "\n",
    "def kmeans(collection, n_clusters, distance_function):\n",
    "    clusters = [\n",
    "        create_cluster(i, n_clusters, collection) for i in range(n_clusters)\n",
    "    ]\n",
    "    \n",
    "    for n, e in enumerate(collection):\n",
    "        closest_cluster = find_closest_cluster(e, clusters, distance_function)\n",
    "        closest_cluster['elements'] += [e]\n",
    "        closest_cluster['elements_index'] += [n+1] \n",
    "        closest_cluster['centroid'] = calculate_average(closest_cluster['elements'])\n",
    "        \n",
    "    return clusters\n"
   ]
  },
  {
   "cell_type": "code",
   "execution_count": 43,
   "metadata": {},
   "outputs": [
    {
     "data": {
      "text/plain": [
       "[{'index': 0,\n",
       "  'centroid': array([1.83333333, 2.33333333]),\n",
       "  'centroid_index': 1,\n",
       "  'elements': [array([1., 1.]), array([1.5, 2. ]), array([3., 4.])],\n",
       "  'elements_index': [1, 2, 3]},\n",
       " {'index': 1,\n",
       "  'centroid': array([4.125, 5.375]),\n",
       "  'centroid_index': 4,\n",
       "  'elements': [array([5., 7.]),\n",
       "   array([3.5, 5. ]),\n",
       "   array([4.5, 5. ]),\n",
       "   array([3.5, 4.5])],\n",
       "  'elements_index': [4, 5, 6, 7]}]"
      ]
     },
     "execution_count": 43,
     "metadata": {},
     "output_type": "execute_result"
    }
   ],
   "source": [
    "points = [\n",
    "    [1.0,1.0],\n",
    "    [1.5,2.0],\n",
    "    [3.0,4.0],\n",
    "    [5.0,7.0],\n",
    "    [3.5,5.0],\n",
    "    [4.5,5.0],\n",
    "    [3.5,4.5]\n",
    "]\n",
    "\n",
    "points = [np.array(p) for p in points]\n",
    "\n",
    "clusters = kmeans(points, 2, distance_function)\n",
    "clusters"
   ]
  }
 ],
 "metadata": {
  "kernelspec": {
   "display_name": "Python 3",
   "language": "python",
   "name": "python3"
  },
  "language_info": {
   "codemirror_mode": {
    "name": "ipython",
    "version": 3
   },
   "file_extension": ".py",
   "mimetype": "text/x-python",
   "name": "python",
   "nbconvert_exporter": "python",
   "pygments_lexer": "ipython3",
   "version": "3.6.5"
  }
 },
 "nbformat": 4,
 "nbformat_minor": 2
}
