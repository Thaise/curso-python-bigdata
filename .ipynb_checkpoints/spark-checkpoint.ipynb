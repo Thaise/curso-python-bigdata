{
 "cells": [
  {
   "cell_type": "code",
   "execution_count": 3,
   "metadata": {},
   "outputs": [],
   "source": [
    "from pyspark.sql import SparkSession"
   ]
  },
  {
   "cell_type": "code",
   "execution_count": 6,
   "metadata": {},
   "outputs": [],
   "source": [
    "spark = SparkSession.builder.appName('basics').getOrCreate()"
   ]
  },
  {
   "cell_type": "code",
   "execution_count": 8,
   "metadata": {},
   "outputs": [
    {
     "data": {
      "text/html": [
       "\n",
       "            <div>\n",
       "                <p><b>SparkSession - in-memory</b></p>\n",
       "                \n",
       "        <div>\n",
       "            <p><b>SparkContext</b></p>\n",
       "\n",
       "            <p><a href=\"http://10.0.2.15:4040\">Spark UI</a></p>\n",
       "\n",
       "            <dl>\n",
       "              <dt>Version</dt>\n",
       "                <dd><code>v2.4.4</code></dd>\n",
       "              <dt>Master</dt>\n",
       "                <dd><code>local[*]</code></dd>\n",
       "              <dt>AppName</dt>\n",
       "                <dd><code>basics</code></dd>\n",
       "            </dl>\n",
       "        </div>\n",
       "        \n",
       "            </div>\n",
       "        "
      ],
      "text/plain": [
       "<pyspark.sql.session.SparkSession at 0x7f69b55b3ef0>"
      ]
     },
     "execution_count": 8,
     "metadata": {},
     "output_type": "execute_result"
    }
   ],
   "source": [
    "spark"
   ]
  },
  {
   "cell_type": "code",
   "execution_count": 11,
   "metadata": {},
   "outputs": [],
   "source": [
    "df = spark.read.json('funcionarios.json')"
   ]
  },
  {
   "cell_type": "code",
   "execution_count": 12,
   "metadata": {},
   "outputs": [
    {
     "data": {
      "text/plain": [
       "DataFrame[cargo: string, departamento: string, id_func: bigint, nome: string, salario: bigint]"
      ]
     },
     "execution_count": 12,
     "metadata": {},
     "output_type": "execute_result"
    }
   ],
   "source": [
    "df"
   ]
  },
  {
   "cell_type": "code",
   "execution_count": 14,
   "metadata": {},
   "outputs": [
    {
     "name": "stdout",
     "output_type": "stream",
     "text": [
      "+---------+----------------+-------+---------------+-------+\n",
      "|    cargo|    departamento|id_func|           nome|salario|\n",
      "+---------+----------------+-------+---------------+-------+\n",
      "| Analista|        Projetos|      1|  Marcio Santos|   5000|\n",
      "|Instrutor|     Treinamento|      2|   Bruno Garcia|   4000|\n",
      "|Vendedora|          Vendas|      3|    Celia Silva|   3500|\n",
      "| Gerencia|Recursos Humanos|      4|   Beatriz Dias|   5500|\n",
      "|Instrutor|     Treinamento|      5| Sandro Correia|   4200|\n",
      "| Analista|        Projetos|      6|   Leticia Dias|   5100|\n",
      "| Analista|        Projetos|      7|   Cacio Farias|   5100|\n",
      "| Gerencia|   Administracao|      8|     Cezar Maia|   7000|\n",
      "|Vendedora|          Vendas|      9|   Amanda Nunes|   3500|\n",
      "|Vendedora|          Vendas|     10|   Paula Priore|   3500|\n",
      "| Analista|        Projetos|     11|     Carla Neto|   4000|\n",
      "|Vendedora|          Vendas|     12|   Marcia Costa|   2700|\n",
      "| Analista|Recursos Humanos|     13|  Luciana Prado|   4100|\n",
      "|Vendedora|          Vendas|     14| Roberta Amaral|   2800|\n",
      "|Instrutor|     Treinamento|     15|Rogerio Ribeiro|   4000|\n",
      "|Vendedora|          Vendas|     16|   Rosana Rocha|   3000|\n",
      "| Analista|        Projetos|     17|Claudio Queiroz|   6500|\n",
      "| Gerencia|   Administracao|     18|   Diego Chaves|   7500|\n",
      "|Instrutor|     Treinamento|     19|Sergio Nogueira|   5300|\n",
      "|Vendedora|          Vendas|     20|  Samantha Reis|   4000|\n",
      "+---------+----------------+-------+---------------+-------+\n",
      "\n"
     ]
    }
   ],
   "source": [
    "df.show()"
   ]
  },
  {
   "cell_type": "code",
   "execution_count": 17,
   "metadata": {},
   "outputs": [],
   "source": [
    "df.createOrReplaceTempView('funcionarios')"
   ]
  },
  {
   "cell_type": "code",
   "execution_count": 19,
   "metadata": {},
   "outputs": [
    {
     "data": {
      "text/plain": [
       "DataFrame[cargo: string, departamento: string, id_func: bigint, nome: string, salario: bigint]"
      ]
     },
     "execution_count": 19,
     "metadata": {},
     "output_type": "execute_result"
    }
   ],
   "source": [
    "spark.sql('SELECT * FROM funcionarios').show()"
   ]
  },
  {
   "cell_type": "code",
   "execution_count": 21,
   "metadata": {},
   "outputs": [
    {
     "name": "stdout",
     "output_type": "stream",
     "text": [
      "+---------+\n",
      "|    cargo|\n",
      "+---------+\n",
      "| Analista|\n",
      "|Instrutor|\n",
      "|Vendedora|\n",
      "| Gerencia|\n",
      "|Instrutor|\n",
      "| Analista|\n",
      "| Analista|\n",
      "| Gerencia|\n",
      "|Vendedora|\n",
      "|Vendedora|\n",
      "| Analista|\n",
      "|Vendedora|\n",
      "| Analista|\n",
      "|Vendedora|\n",
      "|Instrutor|\n",
      "|Vendedora|\n",
      "| Analista|\n",
      "| Gerencia|\n",
      "|Instrutor|\n",
      "|Vendedora|\n",
      "+---------+\n",
      "\n"
     ]
    }
   ],
   "source": [
    "spark.sql('SELECT cargo FROM funcionarios').show()"
   ]
  },
  {
   "cell_type": "code",
   "execution_count": null,
   "metadata": {},
   "outputs": [],
   "source": [
    "spark.sql('SELECT cargo FROM funcionarios').show()"
   ]
  },
  {
   "cell_type": "code",
   "execution_count": 23,
   "metadata": {},
   "outputs": [],
   "source": [
    "def execute_query(query):\n",
    "    spark.sql(query).show()"
   ]
  },
  {
   "cell_type": "code",
   "execution_count": 25,
   "metadata": {},
   "outputs": [
    {
     "name": "stdout",
     "output_type": "stream",
     "text": [
      "+---------+----------------+-------+---------------+-------+\n",
      "|    cargo|    departamento|id_func|           nome|salario|\n",
      "+---------+----------------+-------+---------------+-------+\n",
      "| Analista|        Projetos|      1|  Marcio Santos|   5000|\n",
      "| Gerencia|Recursos Humanos|      4|   Beatriz Dias|   5500|\n",
      "|Instrutor|     Treinamento|      5| Sandro Correia|   4200|\n",
      "| Analista|        Projetos|      6|   Leticia Dias|   5100|\n",
      "| Analista|        Projetos|      7|   Cacio Farias|   5100|\n",
      "| Gerencia|   Administracao|      8|     Cezar Maia|   7000|\n",
      "| Analista|Recursos Humanos|     13|  Luciana Prado|   4100|\n",
      "| Analista|        Projetos|     17|Claudio Queiroz|   6500|\n",
      "| Gerencia|   Administracao|     18|   Diego Chaves|   7500|\n",
      "|Instrutor|     Treinamento|     19|Sergio Nogueira|   5300|\n",
      "+---------+----------------+-------+---------------+-------+\n",
      "\n"
     ]
    }
   ],
   "source": [
    "execute_query('SELECT * FROM funcionarios where salario > 4000')"
   ]
  },
  {
   "cell_type": "code",
   "execution_count": 30,
   "metadata": {},
   "outputs": [
    {
     "name": "stdout",
     "output_type": "stream",
     "text": [
      "+---------+\n",
      "|    cargo|\n",
      "+---------+\n",
      "|Instrutor|\n",
      "| Gerencia|\n",
      "| Analista|\n",
      "+---------+\n",
      "\n"
     ]
    }
   ],
   "source": [
    "execute_query('SELECT distinct(cargo) FROM funcionarios where salario > 4000')"
   ]
  },
  {
   "cell_type": "code",
   "execution_count": 28,
   "metadata": {},
   "outputs": [
    {
     "data": {
      "text/plain": [
       "['__class__',\n",
       " '__delattr__',\n",
       " '__dict__',\n",
       " '__dir__',\n",
       " '__doc__',\n",
       " '__eq__',\n",
       " '__format__',\n",
       " '__ge__',\n",
       " '__getattribute__',\n",
       " '__gt__',\n",
       " '__hash__',\n",
       " '__init__',\n",
       " '__init_subclass__',\n",
       " '__le__',\n",
       " '__lt__',\n",
       " '__module__',\n",
       " '__ne__',\n",
       " '__new__',\n",
       " '__reduce__',\n",
       " '__reduce_ex__',\n",
       " '__repr__',\n",
       " '__setattr__',\n",
       " '__sizeof__',\n",
       " '__str__',\n",
       " '__subclasshook__',\n",
       " '__weakref__',\n",
       " '_df',\n",
       " '_jreader',\n",
       " '_set_opts',\n",
       " '_spark',\n",
       " 'csv',\n",
       " 'format',\n",
       " 'jdbc',\n",
       " 'json',\n",
       " 'load',\n",
       " 'option',\n",
       " 'options',\n",
       " 'orc',\n",
       " 'parquet',\n",
       " 'schema',\n",
       " 'table',\n",
       " 'text']"
      ]
     },
     "execution_count": 28,
     "metadata": {},
     "output_type": "execute_result"
    }
   ],
   "source": [
    "dir(spark.read)"
   ]
  },
  {
   "cell_type": "code",
   "execution_count": 31,
   "metadata": {},
   "outputs": [
    {
     "name": "stdout",
     "output_type": "stream",
     "text": [
      "root\n",
      " |-- cargo: string (nullable = true)\n",
      " |-- departamento: string (nullable = true)\n",
      " |-- id_func: long (nullable = true)\n",
      " |-- nome: string (nullable = true)\n",
      " |-- salario: long (nullable = true)\n",
      "\n"
     ]
    }
   ],
   "source": [
    "df.printSchema()"
   ]
  },
  {
   "cell_type": "code",
   "execution_count": 51,
   "metadata": {},
   "outputs": [],
   "source": [
    "#para retringir os tipos e colunas do meu df, posso inclusive só pegar as colunas que quero e criar restrições nulas, etc.\n",
    "\n",
    "from pyspark.sql.types import(\n",
    "    StructField,\n",
    "    StringType,\n",
    "    IntegerType,\n",
    "    StructType\n",
    ")\n",
    "\n",
    "schema = StructType(fields=[\n",
    "    StructField('cargo', StringType(), nullable=True),\n",
    "    StructField('departamento', StringType(), nullable=True),\n",
    "    StructField('id_func', IntegerType(), nullable=True),\n",
    "    StructField('nome', StringType(), nullable=True),\n",
    "    StructField('salario', StringType(), nullable=True),\n",
    "])\n",
    "\n",
    "df = spark.read.json('funcionarios.json', schema)"
   ]
  },
  {
   "cell_type": "code",
   "execution_count": 39,
   "metadata": {},
   "outputs": [
    {
     "name": "stdout",
     "output_type": "stream",
     "text": [
      "+---------------+\n",
      "|           nome|\n",
      "+---------------+\n",
      "|  Marcio Santos|\n",
      "|   Bruno Garcia|\n",
      "|    Celia Silva|\n",
      "|   Beatriz Dias|\n",
      "| Sandro Correia|\n",
      "|   Leticia Dias|\n",
      "|   Cacio Farias|\n",
      "|     Cezar Maia|\n",
      "|   Amanda Nunes|\n",
      "|   Paula Priore|\n",
      "|     Carla Neto|\n",
      "|   Marcia Costa|\n",
      "|  Luciana Prado|\n",
      "| Roberta Amaral|\n",
      "|Rogerio Ribeiro|\n",
      "|   Rosana Rocha|\n",
      "|Claudio Queiroz|\n",
      "|   Diego Chaves|\n",
      "|Sergio Nogueira|\n",
      "|  Samantha Reis|\n",
      "+---------------+\n",
      "\n"
     ]
    }
   ],
   "source": [
    "df.select('nome').show()"
   ]
  },
  {
   "cell_type": "code",
   "execution_count": 40,
   "metadata": {},
   "outputs": [
    {
     "name": "stdout",
     "output_type": "stream",
     "text": [
      "+---------------+-------+\n",
      "|           nome|id_func|\n",
      "+---------------+-------+\n",
      "|  Marcio Santos|      1|\n",
      "|   Bruno Garcia|      2|\n",
      "|    Celia Silva|      3|\n",
      "|   Beatriz Dias|      4|\n",
      "| Sandro Correia|      5|\n",
      "|   Leticia Dias|      6|\n",
      "|   Cacio Farias|      7|\n",
      "|     Cezar Maia|      8|\n",
      "|   Amanda Nunes|      9|\n",
      "|   Paula Priore|     10|\n",
      "|     Carla Neto|     11|\n",
      "|   Marcia Costa|     12|\n",
      "|  Luciana Prado|     13|\n",
      "| Roberta Amaral|     14|\n",
      "|Rogerio Ribeiro|     15|\n",
      "|   Rosana Rocha|     16|\n",
      "|Claudio Queiroz|     17|\n",
      "|   Diego Chaves|     18|\n",
      "|Sergio Nogueira|     19|\n",
      "|  Samantha Reis|     20|\n",
      "+---------------+-------+\n",
      "\n"
     ]
    }
   ],
   "source": [
    "df.select(['nome', 'id_func']).show()"
   ]
  },
  {
   "cell_type": "code",
   "execution_count": 53,
   "metadata": {},
   "outputs": [],
   "source": [
    "df_2 = df.withColumn('gratificacao', df['salario'] * 0.8)"
   ]
  },
  {
   "cell_type": "code",
   "execution_count": 55,
   "metadata": {},
   "outputs": [],
   "source": [
    "df_2 = df_2.withColumn('total_beneficios', df_2['salario'] + df_2['gratificacao'])"
   ]
  },
  {
   "cell_type": "code",
   "execution_count": 58,
   "metadata": {},
   "outputs": [
    {
     "name": "stdout",
     "output_type": "stream",
     "text": [
      "+---------+----------------+-------+---------------+-------+------------+----------------+\n",
      "|    cargo|    departamento|id_func|           nome|salario|gratificacao|total_beneficios|\n",
      "+---------+----------------+-------+---------------+-------+------------+----------------+\n",
      "| Analista|        Projetos|      1|  Marcio Santos|   5000|      4000.0|          9000.0|\n",
      "|Instrutor|     Treinamento|      2|   Bruno Garcia|   4000|      3200.0|          7200.0|\n",
      "|Vendedora|          Vendas|      3|    Celia Silva|   3500|      2800.0|          6300.0|\n",
      "| Gerencia|Recursos Humanos|      4|   Beatriz Dias|   5500|      4400.0|          9900.0|\n",
      "|Instrutor|     Treinamento|      5| Sandro Correia|   4200|      3360.0|          7560.0|\n",
      "| Analista|        Projetos|      6|   Leticia Dias|   5100|      4080.0|          9180.0|\n",
      "| Analista|        Projetos|      7|   Cacio Farias|   5100|      4080.0|          9180.0|\n",
      "| Gerencia|   Administracao|      8|     Cezar Maia|   7000|      5600.0|         12600.0|\n",
      "|Vendedora|          Vendas|      9|   Amanda Nunes|   3500|      2800.0|          6300.0|\n",
      "|Vendedora|          Vendas|     10|   Paula Priore|   3500|      2800.0|          6300.0|\n",
      "| Analista|        Projetos|     11|     Carla Neto|   4000|      3200.0|          7200.0|\n",
      "|Vendedora|          Vendas|     12|   Marcia Costa|   2700|      2160.0|          4860.0|\n",
      "| Analista|Recursos Humanos|     13|  Luciana Prado|   4100|      3280.0|          7380.0|\n",
      "|Vendedora|          Vendas|     14| Roberta Amaral|   2800|      2240.0|          5040.0|\n",
      "|Instrutor|     Treinamento|     15|Rogerio Ribeiro|   4000|      3200.0|          7200.0|\n",
      "|Vendedora|          Vendas|     16|   Rosana Rocha|   3000|      2400.0|          5400.0|\n",
      "| Analista|        Projetos|     17|Claudio Queiroz|   6500|      5200.0|         11700.0|\n",
      "| Gerencia|   Administracao|     18|   Diego Chaves|   7500|      6000.0|         13500.0|\n",
      "|Instrutor|     Treinamento|     19|Sergio Nogueira|   5300|      4240.0|          9540.0|\n",
      "|Vendedora|          Vendas|     20|  Samantha Reis|   4000|      3200.0|          7200.0|\n",
      "+---------+----------------+-------+---------------+-------+------------+----------------+\n",
      "\n"
     ]
    }
   ],
   "source": [
    "df_2.show()"
   ]
  },
  {
   "cell_type": "code",
   "execution_count": 61,
   "metadata": {},
   "outputs": [],
   "source": [
    "df_colab = spark.read.csv('colaboradores.csv', header=True)"
   ]
  },
  {
   "cell_type": "code",
   "execution_count": 62,
   "metadata": {},
   "outputs": [
    {
     "name": "stdout",
     "output_type": "stream",
     "text": [
      "root\n",
      " |-- id: string (nullable = true)\n",
      " |-- nome: string (nullable = true)\n",
      " |-- cargo: string (nullable = true)\n",
      " |-- salario: string (nullable = true)\n",
      " |-- departamento: string (nullable = true)\n",
      " |-- datadeadmissao: string (nullable = true)\n",
      "\n"
     ]
    }
   ],
   "source": [
    "df_colab.printSchema()"
   ]
  },
  {
   "cell_type": "code",
   "execution_count": 64,
   "metadata": {},
   "outputs": [
    {
     "name": "stdout",
     "output_type": "stream",
     "text": [
      "+---+---------------+---------+-------+----------------+--------------+\n",
      "| id|           nome|    cargo|salario|    departamento|datadeadmissao|\n",
      "+---+---------------+---------+-------+----------------+--------------+\n",
      "|  1|  Marcio Santos| Analista|5000.00|        Projetos|    2010-01-04|\n",
      "|  2|   Bruno Garcia|Instrutor|4000.00|     Treinamento|    2010-01-06|\n",
      "|  3|    Celia Silva|Vendedora|3500.00|          Vendas|    2011-02-07|\n",
      "|  4|   Beatriz Dias| Gerencia|5500.00|Recursos Humanos|    2011-09-22|\n",
      "|  5| Sandro Correia|Instrutor|4200.00|     Treinamento|    2012-02-15|\n",
      "|  6|   Leticia Dias| Analista|5100.00|        Projetos|    2012-04-26|\n",
      "|  7|   Cacio Farias| Analista|5100.00|        Projetos|    2012-10-25|\n",
      "|  8|     Cezar Maia| Gerencia|7000.00|   Administracao|    2014-02-21|\n",
      "|  9|   Amanda Nunes|Vendedora|3500.00|          Vendas|    2014-02-28|\n",
      "| 10|   Paula Priore|Vendedora|3500.00|          Vendas|    2014-03-07|\n",
      "| 11|     Carla Neto| Analista|4000.00|        Projetos|    2015-02-17|\n",
      "| 12|   Marcia Costa|Vendedora|2700.00|          Vendas|    2015-02-17|\n",
      "| 13|  Luciana Prado| Analista|4100.00|Recursos Humanos|    2015-09-17|\n",
      "| 14| Roberta Amaral|Vendedora|2800.00|          Vendas|    2015-10-17|\n",
      "| 15|Rogerio Ribeiro|Instrutor|4000.00|     Treinamento|    2010-08-04|\n",
      "| 16|   Rosana Rocha|Vendedora|3000.00|          Vendas|    2010-09-04|\n",
      "| 17|Claudio Queiroz| Analista|6500.00|        Projetos|    2011-01-04|\n",
      "| 18|   Diego Chaves| Gerencia|7500.00|   Administracao|    2009-10-25|\n",
      "| 19|Sergio Nogueira|Instrutor|5300.00|     Treinamento|    2008-10-25|\n",
      "| 20|  Samantha Reis|Vendedora|4000.00|          Vendas|    2007-12-03|\n",
      "+---+---------------+---------+-------+----------------+--------------+\n",
      "\n"
     ]
    }
   ],
   "source": [
    "df_colab.show()"
   ]
  },
  {
   "cell_type": "code",
   "execution_count": 70,
   "metadata": {},
   "outputs": [
    {
     "name": "stdout",
     "output_type": "stream",
     "text": [
      "+---------+------------+-------+--------------+-------+------------+----------------+\n",
      "|    cargo|departamento|id_func|          nome|salario|gratificacao|total_beneficios|\n",
      "+---------+------------+-------+--------------+-------+------------+----------------+\n",
      "|Vendedora|      Vendas|     12|  Marcia Costa|   2700|      2160.0|          4860.0|\n",
      "|Vendedora|      Vendas|     14|Roberta Amaral|   2800|      2240.0|          5040.0|\n",
      "+---------+------------+-------+--------------+-------+------------+----------------+\n",
      "\n",
      "+---------+------------+-------+--------------+-------+------------+----------------+\n",
      "|    cargo|departamento|id_func|          nome|salario|gratificacao|total_beneficios|\n",
      "+---------+------------+-------+--------------+-------+------------+----------------+\n",
      "|Vendedora|      Vendas|     12|  Marcia Costa|   2700|      2160.0|          4860.0|\n",
      "|Vendedora|      Vendas|     14|Roberta Amaral|   2800|      2240.0|          5040.0|\n",
      "+---------+------------+-------+--------------+-------+------------+----------------+\n",
      "\n"
     ]
    }
   ],
   "source": [
    "df_2.filter(df_2['salario'] < 3000).show()\n",
    "#ou\n",
    "df_2.filter('salario < 3000').show()"
   ]
  },
  {
   "cell_type": "code",
   "execution_count": 73,
   "metadata": {},
   "outputs": [
    {
     "name": "stdout",
     "output_type": "stream",
     "text": [
      "+----------------+-----+\n",
      "|    departamento|count|\n",
      "+----------------+-----+\n",
      "|Recursos Humanos|    2|\n",
      "|        Projetos|    5|\n",
      "|          Vendas|    7|\n",
      "|   Administracao|    2|\n",
      "|     Treinamento|    4|\n",
      "+----------------+-----+\n",
      "\n"
     ]
    }
   ],
   "source": [
    "df_2.groupBy('departamento').count().show()"
   ]
  },
  {
   "cell_type": "code",
   "execution_count": 76,
   "metadata": {},
   "outputs": [
    {
     "name": "stdout",
     "output_type": "stream",
     "text": [
      "+----------------+-----------------+\n",
      "|    departamento|     avg(salario)|\n",
      "+----------------+-----------------+\n",
      "|Recursos Humanos|           4800.0|\n",
      "|        Projetos|           5140.0|\n",
      "|          Vendas|3285.714285714286|\n",
      "|   Administracao|           7250.0|\n",
      "|     Treinamento|           4375.0|\n",
      "+----------------+-----------------+\n",
      "\n"
     ]
    }
   ],
   "source": [
    "df_2.groupBy('departamento').agg({'salario':'mean'}).show()"
   ]
  },
  {
   "cell_type": "code",
   "execution_count": 78,
   "metadata": {},
   "outputs": [
    {
     "name": "stdout",
     "output_type": "stream",
     "text": [
      "+---------+----------------+-------+---------------+-------+------------+----------------+\n",
      "|    cargo|    departamento|id_func|           nome|salario|gratificacao|total_beneficios|\n",
      "+---------+----------------+-------+---------------+-------+------------+----------------+\n",
      "| Gerencia|   Administracao|      8|     Cezar Maia|   7000|      5600.0|         12600.0|\n",
      "| Gerencia|   Administracao|     18|   Diego Chaves|   7500|      6000.0|         13500.0|\n",
      "| Analista|        Projetos|     11|     Carla Neto|   4000|      3200.0|          7200.0|\n",
      "| Analista|        Projetos|     17|Claudio Queiroz|   6500|      5200.0|         11700.0|\n",
      "| Analista|        Projetos|      1|  Marcio Santos|   5000|      4000.0|          9000.0|\n",
      "| Analista|        Projetos|      6|   Leticia Dias|   5100|      4080.0|          9180.0|\n",
      "| Analista|        Projetos|      7|   Cacio Farias|   5100|      4080.0|          9180.0|\n",
      "| Gerencia|Recursos Humanos|      4|   Beatriz Dias|   5500|      4400.0|          9900.0|\n",
      "| Analista|Recursos Humanos|     13|  Luciana Prado|   4100|      3280.0|          7380.0|\n",
      "|Instrutor|     Treinamento|     19|Sergio Nogueira|   5300|      4240.0|          9540.0|\n",
      "|Instrutor|     Treinamento|      2|   Bruno Garcia|   4000|      3200.0|          7200.0|\n",
      "|Instrutor|     Treinamento|      5| Sandro Correia|   4200|      3360.0|          7560.0|\n",
      "|Instrutor|     Treinamento|     15|Rogerio Ribeiro|   4000|      3200.0|          7200.0|\n",
      "|Vendedora|          Vendas|      3|    Celia Silva|   3500|      2800.0|          6300.0|\n",
      "|Vendedora|          Vendas|     10|   Paula Priore|   3500|      2800.0|          6300.0|\n",
      "|Vendedora|          Vendas|      9|   Amanda Nunes|   3500|      2800.0|          6300.0|\n",
      "|Vendedora|          Vendas|     12|   Marcia Costa|   2700|      2160.0|          4860.0|\n",
      "|Vendedora|          Vendas|     20|  Samantha Reis|   4000|      3200.0|          7200.0|\n",
      "|Vendedora|          Vendas|     14| Roberta Amaral|   2800|      2240.0|          5040.0|\n",
      "|Vendedora|          Vendas|     16|   Rosana Rocha|   3000|      2400.0|          5400.0|\n",
      "+---------+----------------+-------+---------------+-------+------------+----------------+\n",
      "\n"
     ]
    }
   ],
   "source": [
    "df_2.orderBy('departamento').show()"
   ]
  },
  {
   "cell_type": "code",
   "execution_count": 81,
   "metadata": {},
   "outputs": [
    {
     "name": "stdout",
     "output_type": "stream",
     "text": [
      "+------------+\n",
      "|avg(salario)|\n",
      "+------------+\n",
      "|      4515.0|\n",
      "+------------+\n",
      "\n"
     ]
    }
   ],
   "source": [
    "from pyspark.sql.functions import avg, stddev\n",
    "\n",
    "df_2.select(avg('salario')).show()"
   ]
  },
  {
   "cell_type": "code",
   "execution_count": 87,
   "metadata": {},
   "outputs": [
    {
     "name": "stdout",
     "output_type": "stream",
     "text": [
      "+--------------------+\n",
      "|stddev_samp(salario)|\n",
      "+--------------------+\n",
      "|    1347.22912520086|\n",
      "+--------------------+\n",
      "\n",
      "+--------------------+\n",
      "|stddev_samp(salario)|\n",
      "+--------------------+\n",
      "|    1347.22912520086|\n",
      "+--------------------+\n",
      "\n",
      "+----------------+\n",
      "|   Desvio padrão|\n",
      "+----------------+\n",
      "|1347.22912520086|\n",
      "+----------------+\n",
      "\n"
     ]
    }
   ],
   "source": [
    "df_2.select(stddev('salario')).alias('std').show()\n",
    "#or\n",
    "df_2.select(stddev('salario')).show()\n",
    "#or\n",
    "df_2.select(stddev('salario').alias('Desvio padrão')).show()"
   ]
  },
  {
   "cell_type": "code",
   "execution_count": 88,
   "metadata": {},
   "outputs": [],
   "source": [
    "from pyspark.sql.functions import hour,dayofyear,month,year"
   ]
  },
  {
   "cell_type": "code",
   "execution_count": 98,
   "metadata": {},
   "outputs": [
    {
     "name": "stdout",
     "output_type": "stream",
     "text": [
      "+---------------------+\n",
      "|month(datadeadmissao)|\n",
      "+---------------------+\n",
      "|                    1|\n",
      "|                    1|\n",
      "|                    2|\n",
      "|                    9|\n",
      "|                    2|\n",
      "|                    4|\n",
      "|                   10|\n",
      "|                    2|\n",
      "|                    2|\n",
      "|                    3|\n",
      "|                    2|\n",
      "|                    2|\n",
      "|                    9|\n",
      "|                   10|\n",
      "|                    8|\n",
      "|                    9|\n",
      "|                    1|\n",
      "|                   10|\n",
      "|                   10|\n",
      "|                   12|\n",
      "+---------------------+\n",
      "\n"
     ]
    }
   ],
   "source": [
    "df_colab.select(\n",
    "    month(\n",
    "        df_colab['datadeadmissao']\n",
    "    )\n",
    ").show()"
   ]
  },
  {
   "cell_type": "code",
   "execution_count": 95,
   "metadata": {},
   "outputs": [],
   "source": [
    "df_colab_2 = spark.read.csv('colaboradores_data_missing.csv', header=True)"
   ]
  },
  {
   "cell_type": "code",
   "execution_count": 97,
   "metadata": {},
   "outputs": [
    {
     "name": "stdout",
     "output_type": "stream",
     "text": [
      "+---+---------------+---------+-------+----------------+--------------+\n",
      "| id|           nome|    cargo|salario|    departamento|datadeadmissao|\n",
      "+---+---------------+---------+-------+----------------+--------------+\n",
      "|  1|  Marcio Santos| Analista|5000.00|        Projetos|    2010-01-04|\n",
      "|  2|   Bruno Garcia|Instrutor|4000.00|     Treinamento|    2010-01-06|\n",
      "|  3|    Celia Silva|Vendedora|   null|            null|    2011-02-07|\n",
      "|  4|   Beatriz Dias| Gerencia|5500.00|Recursos Humanos|    2011-09-22|\n",
      "|  5| Sandro Correia|Instrutor|4200.00|     Treinamento|    2012-02-15|\n",
      "|  6|   Leticia Dias| Analista|   null|        Projetos|    2012-04-26|\n",
      "|  7|   Cacio Farias| Analista|5100.00|        Projetos|    2012-10-25|\n",
      "|  8|     Cezar Maia| Gerencia|7000.00|            null|    2014-02-21|\n",
      "|  9|   Amanda Nunes|Vendedora|3500.00|          Vendas|    2014-02-28|\n",
      "| 10|   Paula Priore|Vendedora|3500.00|          Vendas|    2014-03-07|\n",
      "| 11|     Carla Neto| Analista|4000.00|        Projetos|    2015-02-17|\n",
      "| 12|   Marcia Costa|Vendedora|   null|            null|    2015-02-17|\n",
      "| 13|  Luciana Prado| Analista|4100.00|Recursos Humanos|    2015-09-17|\n",
      "| 14| Roberta Amaral|Vendedora|2800.00|          Vendas|    2015-10-17|\n",
      "| 15|Rogerio Ribeiro|Instrutor|4000.00|     Treinamento|    2010-08-04|\n",
      "| 16|   Rosana Rocha|Vendedora|   null|          Vendas|    2010-09-04|\n",
      "| 17|Claudio Queiroz| Analista|6500.00|        Projetos|    2011-01-04|\n",
      "| 18|   Diego Chaves| Gerencia|7500.00|   Administracao|    2009-10-25|\n",
      "| 19|Sergio Nogueira|Instrutor|5300.00|     Treinamento|    2008-10-25|\n",
      "| 20|  Samantha Reis|Vendedora|4000.00|          Vendas|    2007-12-03|\n",
      "+---+---------------+---------+-------+----------------+--------------+\n",
      "\n"
     ]
    }
   ],
   "source": [
    "df_colab_2.show()"
   ]
  },
  {
   "cell_type": "code",
   "execution_count": 100,
   "metadata": {},
   "outputs": [
    {
     "name": "stdout",
     "output_type": "stream",
     "text": [
      "+---+---------------+---------+-------+----------------+--------------+\n",
      "| id|           nome|    cargo|salario|    departamento|datadeadmissao|\n",
      "+---+---------------+---------+-------+----------------+--------------+\n",
      "|  1|  Marcio Santos| Analista|5000.00|        Projetos|    2010-01-04|\n",
      "|  2|   Bruno Garcia|Instrutor|4000.00|     Treinamento|    2010-01-06|\n",
      "|  4|   Beatriz Dias| Gerencia|5500.00|Recursos Humanos|    2011-09-22|\n",
      "|  5| Sandro Correia|Instrutor|4200.00|     Treinamento|    2012-02-15|\n",
      "|  7|   Cacio Farias| Analista|5100.00|        Projetos|    2012-10-25|\n",
      "|  9|   Amanda Nunes|Vendedora|3500.00|          Vendas|    2014-02-28|\n",
      "| 10|   Paula Priore|Vendedora|3500.00|          Vendas|    2014-03-07|\n",
      "| 11|     Carla Neto| Analista|4000.00|        Projetos|    2015-02-17|\n",
      "| 13|  Luciana Prado| Analista|4100.00|Recursos Humanos|    2015-09-17|\n",
      "| 14| Roberta Amaral|Vendedora|2800.00|          Vendas|    2015-10-17|\n",
      "| 15|Rogerio Ribeiro|Instrutor|4000.00|     Treinamento|    2010-08-04|\n",
      "| 17|Claudio Queiroz| Analista|6500.00|        Projetos|    2011-01-04|\n",
      "| 18|   Diego Chaves| Gerencia|7500.00|   Administracao|    2009-10-25|\n",
      "| 19|Sergio Nogueira|Instrutor|5300.00|     Treinamento|    2008-10-25|\n",
      "| 20|  Samantha Reis|Vendedora|4000.00|          Vendas|    2007-12-03|\n",
      "+---+---------------+---------+-------+----------------+--------------+\n",
      "\n"
     ]
    }
   ],
   "source": [
    "#drop linha que possua qualquer coluna null\n",
    "df_colab_2.na.drop().show()\n",
    "#ou\n",
    "df_colab_2.na.drop(how='any').show()"
   ]
  },
  {
   "cell_type": "code",
   "execution_count": 102,
   "metadata": {},
   "outputs": [
    {
     "name": "stdout",
     "output_type": "stream",
     "text": [
      "+---+---------------+---------+-------+----------------+--------------+\n",
      "| id|           nome|    cargo|salario|    departamento|datadeadmissao|\n",
      "+---+---------------+---------+-------+----------------+--------------+\n",
      "|  1|  Marcio Santos| Analista|5000.00|        Projetos|    2010-01-04|\n",
      "|  2|   Bruno Garcia|Instrutor|4000.00|     Treinamento|    2010-01-06|\n",
      "|  4|   Beatriz Dias| Gerencia|5500.00|Recursos Humanos|    2011-09-22|\n",
      "|  5| Sandro Correia|Instrutor|4200.00|     Treinamento|    2012-02-15|\n",
      "|  7|   Cacio Farias| Analista|5100.00|        Projetos|    2012-10-25|\n",
      "|  8|     Cezar Maia| Gerencia|7000.00|            null|    2014-02-21|\n",
      "|  9|   Amanda Nunes|Vendedora|3500.00|          Vendas|    2014-02-28|\n",
      "| 10|   Paula Priore|Vendedora|3500.00|          Vendas|    2014-03-07|\n",
      "| 11|     Carla Neto| Analista|4000.00|        Projetos|    2015-02-17|\n",
      "| 13|  Luciana Prado| Analista|4100.00|Recursos Humanos|    2015-09-17|\n",
      "| 14| Roberta Amaral|Vendedora|2800.00|          Vendas|    2015-10-17|\n",
      "| 15|Rogerio Ribeiro|Instrutor|4000.00|     Treinamento|    2010-08-04|\n",
      "| 17|Claudio Queiroz| Analista|6500.00|        Projetos|    2011-01-04|\n",
      "| 18|   Diego Chaves| Gerencia|7500.00|   Administracao|    2009-10-25|\n",
      "| 19|Sergio Nogueira|Instrutor|5300.00|     Treinamento|    2008-10-25|\n",
      "| 20|  Samantha Reis|Vendedora|4000.00|          Vendas|    2007-12-03|\n",
      "+---+---------------+---------+-------+----------------+--------------+\n",
      "\n"
     ]
    }
   ],
   "source": [
    "#dropa linhas cuja coluna salário seja null\n",
    "df_colab_2.na.drop(subset=['salario']).show()"
   ]
  },
  {
   "cell_type": "code",
   "execution_count": 106,
   "metadata": {},
   "outputs": [
    {
     "name": "stdout",
     "output_type": "stream",
     "text": [
      "+---+---------------+---------+-------+----------------+--------------+\n",
      "| id|           nome|    cargo|salario|    departamento|datadeadmissao|\n",
      "+---+---------------+---------+-------+----------------+--------------+\n",
      "|  1|  Marcio Santos| Analista|5000.00|        Projetos|    2010-01-04|\n",
      "|  2|   Bruno Garcia|Instrutor|4000.00|     Treinamento|    2010-01-06|\n",
      "|  3|    Celia Silva|Vendedora|   null|            null|    2011-02-07|\n",
      "|  4|   Beatriz Dias| Gerencia|5500.00|Recursos Humanos|    2011-09-22|\n",
      "|  5| Sandro Correia|Instrutor|4200.00|     Treinamento|    2012-02-15|\n",
      "|  6|   Leticia Dias| Analista|   null|        Projetos|    2012-04-26|\n",
      "|  7|   Cacio Farias| Analista|5100.00|        Projetos|    2012-10-25|\n",
      "|  8|     Cezar Maia| Gerencia|7000.00|            null|    2014-02-21|\n",
      "|  9|   Amanda Nunes|Vendedora|3500.00|          Vendas|    2014-02-28|\n",
      "| 10|   Paula Priore|Vendedora|3500.00|          Vendas|    2014-03-07|\n",
      "| 11|     Carla Neto| Analista|4000.00|        Projetos|    2015-02-17|\n",
      "| 12|   Marcia Costa|Vendedora|   null|            null|    2015-02-17|\n",
      "| 13|  Luciana Prado| Analista|4100.00|Recursos Humanos|    2015-09-17|\n",
      "| 14| Roberta Amaral|Vendedora|2800.00|          Vendas|    2015-10-17|\n",
      "| 15|Rogerio Ribeiro|Instrutor|4000.00|     Treinamento|    2010-08-04|\n",
      "| 16|   Rosana Rocha|Vendedora|   null|          Vendas|    2010-09-04|\n",
      "| 17|Claudio Queiroz| Analista|6500.00|        Projetos|    2011-01-04|\n",
      "| 18|   Diego Chaves| Gerencia|7500.00|   Administracao|    2009-10-25|\n",
      "| 19|Sergio Nogueira|Instrutor|5300.00|     Treinamento|    2008-10-25|\n",
      "| 20|  Samantha Reis|Vendedora|4000.00|          Vendas|    2007-12-03|\n",
      "+---+---------------+---------+-------+----------------+--------------+\n",
      "\n"
     ]
    }
   ],
   "source": [
    "#dropa apenas linhas que possuam todas as colunas null\n",
    "df_colab_2.na.drop(how='all').show()"
   ]
  },
  {
   "cell_type": "code",
   "execution_count": 109,
   "metadata": {},
   "outputs": [
    {
     "name": "stdout",
     "output_type": "stream",
     "text": [
      "+---+---------------+---------+-------+----------------+--------------+\n",
      "| id|           nome|    cargo|salario|    departamento|datadeadmissao|\n",
      "+---+---------------+---------+-------+----------------+--------------+\n",
      "|  1|  Marcio Santos| Analista|5000.00|        Projetos|    2010-01-04|\n",
      "|  2|   Bruno Garcia|Instrutor|4000.00|     Treinamento|    2010-01-06|\n",
      "|  3|    Celia Silva|Vendedora|    100|            null|    2011-02-07|\n",
      "|  4|   Beatriz Dias| Gerencia|5500.00|Recursos Humanos|    2011-09-22|\n",
      "|  5| Sandro Correia|Instrutor|4200.00|     Treinamento|    2012-02-15|\n",
      "|  6|   Leticia Dias| Analista|    100|        Projetos|    2012-04-26|\n",
      "|  7|   Cacio Farias| Analista|5100.00|        Projetos|    2012-10-25|\n",
      "|  8|     Cezar Maia| Gerencia|7000.00|            null|    2014-02-21|\n",
      "|  9|   Amanda Nunes|Vendedora|3500.00|          Vendas|    2014-02-28|\n",
      "| 10|   Paula Priore|Vendedora|3500.00|          Vendas|    2014-03-07|\n",
      "| 11|     Carla Neto| Analista|4000.00|        Projetos|    2015-02-17|\n",
      "| 12|   Marcia Costa|Vendedora|    100|            null|    2015-02-17|\n",
      "| 13|  Luciana Prado| Analista|4100.00|Recursos Humanos|    2015-09-17|\n",
      "| 14| Roberta Amaral|Vendedora|2800.00|          Vendas|    2015-10-17|\n",
      "| 15|Rogerio Ribeiro|Instrutor|4000.00|     Treinamento|    2010-08-04|\n",
      "| 16|   Rosana Rocha|Vendedora|    100|          Vendas|    2010-09-04|\n",
      "| 17|Claudio Queiroz| Analista|6500.00|        Projetos|    2011-01-04|\n",
      "| 18|   Diego Chaves| Gerencia|7500.00|   Administracao|    2009-10-25|\n",
      "| 19|Sergio Nogueira|Instrutor|5300.00|     Treinamento|    2008-10-25|\n",
      "| 20|  Samantha Reis|Vendedora|4000.00|          Vendas|    2007-12-03|\n",
      "+---+---------------+---------+-------+----------------+--------------+\n",
      "\n"
     ]
    }
   ],
   "source": [
    "#preenche as células null do dataset com o valor especificado\n",
    "df_colab_2.na.fill('100', subset=['salario']).show()"
   ]
  },
  {
   "cell_type": "code",
   "execution_count": 128,
   "metadata": {},
   "outputs": [],
   "source": [
    "from pyspark.sql.types import DoubleType\n",
    "\n",
    "schema = StructType(\n",
    "    fields=[\n",
    "        StructField('id', IntegerType(), True),\n",
    "        StructField('nome', StringType(), True),\n",
    "        StructField('cargo', StringType(), True),\n",
    "        StructField('salario', DoubleType(), True),        \n",
    "        StructField('departamento', StringType(), True),        \n",
    "        StructField('datadeadmissao', StringType(), True) \n",
    "    ]\n",
    ")\n",
    "\n",
    "\n",
    "df_colab_2 = spark.read.csv('colaboradores_data_missing.csv', header=True, schema=schema)"
   ]
  },
  {
   "cell_type": "code",
   "execution_count": 129,
   "metadata": {},
   "outputs": [
    {
     "name": "stdout",
     "output_type": "stream",
     "text": [
      "root\n",
      " |-- id: integer (nullable = true)\n",
      " |-- nome: string (nullable = true)\n",
      " |-- cargo: string (nullable = true)\n",
      " |-- salario: double (nullable = true)\n",
      " |-- departamento: string (nullable = true)\n",
      " |-- datadeadmissao: string (nullable = true)\n",
      "\n"
     ]
    }
   ],
   "source": [
    "df_colab_2.printSchema()"
   ]
  },
  {
   "cell_type": "code",
   "execution_count": 130,
   "metadata": {},
   "outputs": [
    {
     "name": "stdout",
     "output_type": "stream",
     "text": [
      "+---+---------------+---------+-------+----------------+--------------+\n",
      "| id|           nome|    cargo|salario|    departamento|datadeadmissao|\n",
      "+---+---------------+---------+-------+----------------+--------------+\n",
      "|  1|  Marcio Santos| Analista| 5000.0|        Projetos|    2010-01-04|\n",
      "|  2|   Bruno Garcia|Instrutor| 4000.0|     Treinamento|    2010-01-06|\n",
      "|  3|    Celia Silva|Vendedora|   null|            null|    2011-02-07|\n",
      "|  4|   Beatriz Dias| Gerencia| 5500.0|Recursos Humanos|    2011-09-22|\n",
      "|  5| Sandro Correia|Instrutor| 4200.0|     Treinamento|    2012-02-15|\n",
      "|  6|   Leticia Dias| Analista|   null|        Projetos|    2012-04-26|\n",
      "|  7|   Cacio Farias| Analista| 5100.0|        Projetos|    2012-10-25|\n",
      "|  8|     Cezar Maia| Gerencia| 7000.0|            null|    2014-02-21|\n",
      "|  9|   Amanda Nunes|Vendedora| 3500.0|          Vendas|    2014-02-28|\n",
      "| 10|   Paula Priore|Vendedora| 3500.0|          Vendas|    2014-03-07|\n",
      "| 11|     Carla Neto| Analista| 4000.0|        Projetos|    2015-02-17|\n",
      "| 12|   Marcia Costa|Vendedora|   null|            null|    2015-02-17|\n",
      "| 13|  Luciana Prado| Analista| 4100.0|Recursos Humanos|    2015-09-17|\n",
      "| 14| Roberta Amaral|Vendedora| 2800.0|          Vendas|    2015-10-17|\n",
      "| 15|Rogerio Ribeiro|Instrutor| 4000.0|     Treinamento|    2010-08-04|\n",
      "| 16|   Rosana Rocha|Vendedora|   null|          Vendas|    2010-09-04|\n",
      "| 17|Claudio Queiroz| Analista| 6500.0|        Projetos|    2011-01-04|\n",
      "| 18|   Diego Chaves| Gerencia| 7500.0|   Administracao|    2009-10-25|\n",
      "| 19|Sergio Nogueira|Instrutor| 5300.0|     Treinamento|    2008-10-25|\n",
      "| 20|  Samantha Reis|Vendedora| 4000.0|          Vendas|    2007-12-03|\n",
      "+---+---------------+---------+-------+----------------+--------------+\n",
      "\n"
     ]
    }
   ],
   "source": [
    "df_colab_2.show()"
   ]
  },
  {
   "cell_type": "code",
   "execution_count": 132,
   "metadata": {},
   "outputs": [
    {
     "name": "stdout",
     "output_type": "stream",
     "text": [
      "+---+---------------+---------+-------+----------------+--------------+\n",
      "| id|           nome|    cargo|salario|    departamento|datadeadmissao|\n",
      "+---+---------------+---------+-------+----------------+--------------+\n",
      "|  1|  Marcio Santos| Analista| 5000.0|        Projetos|    2010-01-04|\n",
      "|  2|   Bruno Garcia|Instrutor| 4000.0|     Treinamento|    2010-01-06|\n",
      "|  3|    Celia Silva|Vendedora|  100.0|             N/A|    2011-02-07|\n",
      "|  4|   Beatriz Dias| Gerencia| 5500.0|Recursos Humanos|    2011-09-22|\n",
      "|  5| Sandro Correia|Instrutor| 4200.0|     Treinamento|    2012-02-15|\n",
      "|  6|   Leticia Dias| Analista|  100.0|        Projetos|    2012-04-26|\n",
      "|  7|   Cacio Farias| Analista| 5100.0|        Projetos|    2012-10-25|\n",
      "|  8|     Cezar Maia| Gerencia| 7000.0|             N/A|    2014-02-21|\n",
      "|  9|   Amanda Nunes|Vendedora| 3500.0|          Vendas|    2014-02-28|\n",
      "| 10|   Paula Priore|Vendedora| 3500.0|          Vendas|    2014-03-07|\n",
      "| 11|     Carla Neto| Analista| 4000.0|        Projetos|    2015-02-17|\n",
      "| 12|   Marcia Costa|Vendedora|  100.0|             N/A|    2015-02-17|\n",
      "| 13|  Luciana Prado| Analista| 4100.0|Recursos Humanos|    2015-09-17|\n",
      "| 14| Roberta Amaral|Vendedora| 2800.0|          Vendas|    2015-10-17|\n",
      "| 15|Rogerio Ribeiro|Instrutor| 4000.0|     Treinamento|    2010-08-04|\n",
      "| 16|   Rosana Rocha|Vendedora|  100.0|          Vendas|    2010-09-04|\n",
      "| 17|Claudio Queiroz| Analista| 6500.0|        Projetos|    2011-01-04|\n",
      "| 18|   Diego Chaves| Gerencia| 7500.0|   Administracao|    2009-10-25|\n",
      "| 19|Sergio Nogueira|Instrutor| 5300.0|     Treinamento|    2008-10-25|\n",
      "| 20|  Samantha Reis|Vendedora| 4000.0|          Vendas|    2007-12-03|\n",
      "+---+---------------+---------+-------+----------------+--------------+\n",
      "\n"
     ]
    }
   ],
   "source": [
    "df_colab_2 = df_colab_2.na.fill(100.0, subset=['salario'])\n",
    "df_colab_2 = df_colab_2.na.fill('N/A', subset=['departamento'])\n",
    "\n",
    "df_colab_2.show()"
   ]
  },
  {
   "cell_type": "code",
   "execution_count": null,
   "metadata": {},
   "outputs": [],
   "source": []
  }
 ],
 "metadata": {
  "kernelspec": {
   "display_name": "Python 3",
   "language": "python",
   "name": "python3"
  },
  "language_info": {
   "codemirror_mode": {
    "name": "ipython",
    "version": 3
   },
   "file_extension": ".py",
   "mimetype": "text/x-python",
   "name": "python",
   "nbconvert_exporter": "python",
   "pygments_lexer": "ipython3",
   "version": "3.6.5"
  }
 },
 "nbformat": 4,
 "nbformat_minor": 2
}
