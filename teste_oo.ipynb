{
 "cells": [
  {
   "cell_type": "code",
   "execution_count": 19,
   "metadata": {},
   "outputs": [],
   "source": [
    "class Usuario:\n",
    "    #não é possível incluir atributos para as instancia (ex.: u = Usuario('e','s') / u.idade = 12)\n",
    "    __slots__ = ['email', 'senha']\n",
    "\n",
    "\n",
    "    def __init__(self, email, senha):\n",
    "        self.email = email\n",
    "        self.senha = senha\n",
    "        \n",
    "    def diga_ola(self):\n",
    "        print('olá, seu email é {} e a senha é {}'.format(self.email, self.senha))"
   ]
  },
  {
   "cell_type": "code",
   "execution_count": 20,
   "metadata": {},
   "outputs": [],
   "source": [
    "class Cliente(Usuario):\n",
    "    \n",
    "    __slots__ = ['nome']\n",
    "    \n",
    "    def __init__(self, email, senha, nome):\n",
    "        super().__init__(email, senha)\n",
    "        self.nome = nome\n",
    "        \n",
    "    def diga_ola(self):\n",
    "        super().diga_ola()\n",
    "        print(\"e seu nome é {} \".format(nome))"
   ]
  },
  {
   "cell_type": "code",
   "execution_count": 22,
   "metadata": {},
   "outputs": [
    {
     "name": "stdout",
     "output_type": "stream",
     "text": [
      "Email: aaa\n",
      "Senha: eee\n",
      "Nome: iii\n",
      "olá, seu email é aaa e a senha é eee\n",
      "e seu nome é iii \n"
     ]
    }
   ],
   "source": [
    "email = input(\"Email: \")\n",
    "senha = input(\"Senha: \")\n",
    "nome = input(\"Nome: \")\n",
    "\n",
    "cliente = Cliente(email, senha, nome)\n",
    "cliente.diga_ola()\n"
   ]
  },
  {
   "cell_type": "code",
   "execution_count": null,
   "metadata": {},
   "outputs": [],
   "source": []
  }
 ],
 "metadata": {
  "kernelspec": {
   "display_name": "Python 3",
   "language": "python",
   "name": "python3"
  },
  "language_info": {
   "codemirror_mode": {
    "name": "ipython",
    "version": 3
   },
   "file_extension": ".py",
   "mimetype": "text/x-python",
   "name": "python",
   "nbconvert_exporter": "python",
   "pygments_lexer": "ipython3",
   "version": "3.6.5"
  }
 },
 "nbformat": 4,
 "nbformat_minor": 2
}
